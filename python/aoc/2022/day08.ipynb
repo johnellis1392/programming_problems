{
 "cells": [
  {
   "cell_type": "code",
   "execution_count": 56,
   "metadata": {},
   "outputs": [],
   "source": [
    "import numpy as np"
   ]
  },
  {
   "cell_type": "code",
   "execution_count": 57,
   "metadata": {},
   "outputs": [],
   "source": [
    "testing = True\n",
    "input_filename = testing and 'input.test.txt' or 'input.txt'\n",
    "\n",
    "data = []\n",
    "with open(input_filename) as f:\n",
    "    for line in f.readlines():\n",
    "        data.append(line.strip())\n"
   ]
  },
  {
   "cell_type": "code",
   "execution_count": 74,
   "metadata": {},
   "outputs": [],
   "source": [
    "a = np.matrix([list(map(int, x)) for x in data], dtype=int)\n",
    "b = np.empty(a.shape, dtype=int)\n",
    "b.fill(0)\n",
    "\n",
    "n, m = a.shape\n",
    "for i in range(n):\n",
    "    imax = -1\n",
    "    for j in range(m):\n",
    "        if a[i, j] > imax:\n",
    "            imax = a[i, j]"
   ]
  },
  {
   "cell_type": "code",
   "execution_count": 59,
   "metadata": {},
   "outputs": [],
   "source": [
    "def day08_part1(data):\n",
    "    data = np.matrix(list(list(map(int, x)) for x in data), dtype=int)\n",
    "    mat = np.matrix.__doc__\n",
    "    n, m = data.shape\n",
    "    for i in range(n):\n",
    "        for j in range(m):\n",
    "            data[i, j]\n",
    "    return data"
   ]
  },
  {
   "cell_type": "code",
   "execution_count": 60,
   "metadata": {},
   "outputs": [],
   "source": [
    "def day08_part2(data):\n",
    "    pass"
   ]
  },
  {
   "cell_type": "code",
   "execution_count": 61,
   "metadata": {},
   "outputs": [
    {
     "name": "stdout",
     "output_type": "stream",
     "text": [
      "Result1:  [[3 0 3 7 3]\n",
      " [2 5 5 1 2]\n",
      " [6 5 3 3 2]\n",
      " [3 3 5 4 9]\n",
      " [3 5 3 9 0]]\n",
      "Result2:  None\n"
     ]
    }
   ],
   "source": [
    "result1 = day08_part1(data)\n",
    "print('Result1: ', result1)\n",
    "result2 = day08_part2(data)\n",
    "print('Result2: ', result2)"
   ]
  }
 ],
 "metadata": {
  "kernelspec": {
   "display_name": "Python 3",
   "language": "python",
   "name": "python3"
  },
  "language_info": {
   "codemirror_mode": {
    "name": "ipython",
    "version": 3
   },
   "file_extension": ".py",
   "mimetype": "text/x-python",
   "name": "python",
   "nbconvert_exporter": "python",
   "pygments_lexer": "ipython3",
   "version": "3.9.7 (default, Sep  3 2021, 12:37:55) \n[Clang 12.0.5 (clang-1205.0.22.9)]"
  },
  "orig_nbformat": 4,
  "vscode": {
   "interpreter": {
    "hash": "397704579725e15f5c7cb49fe5f0341eb7531c82d19f2c29d197e8b64ab5776b"
   }
  }
 },
 "nbformat": 4,
 "nbformat_minor": 2
}
