{
 "cells": [
  {
   "cell_type": "markdown",
   "id": "4023b3cc",
   "metadata": {},
   "source": [
    "# Links\n",
    "\n",
    "Collection of Links to remember."
   ]
  },
  {
   "cell_type": "markdown",
   "id": "21f85de4",
   "metadata": {},
   "source": [
    "* Concurrency\n",
    "  * [Java Concurrency Overview](https://www.baeldung.com/java-concurrency)\n",
    "* Data Structures & Algorithms\n",
    "  * General Resources\n",
    "    * [Must-do DS/A, GeekForGeeks Link Collection](https://github.com/Avinash987/Coding)\n",
    "    * [Github Mirror of Cracking the Coding Interview](https://github.com/Avinash987/Coding/blob/master/Cracking-the-Coding-Interview-6th-Edition-189-Programming-Questions-and-Solutions.pdf)\n",
    "  * Dynamic Programming\n",
    "    * [What is Dynamic Programming?](https://www.spiceworks.com/tech/devops/articles/what-is-dynamic-programming/)\n",
    "* Graph Algorithms\n",
    "  * [Byte This! Algorithms for Distributed Graph Traversal](https://bytethisstore.com/articles/pg/distributed-graph-traversal)\n",
    "  * [Byte This! Graph Algorithms: Depth First and Breadth First Search](https://bytethisstore.com/articles/pg/graph-algorithms-depth-breadth-search(footer:april22))\n",
    "* Language Exercises\n",
    "  * [Logic Programming Exercises](https://athena.ecs.csus.edu/~mei/logicp/exercises.html)\n",
    "  * [SQL Exercises, Practice, Solution](https://www.w3resource.com/sql-exercises/index.php)\n",
    "* Wikipedia\n",
    "  * [Concurrency Control Algorithms](https://en.wikipedia.org/wiki/Category:Concurrency_control_algorithms)\n",
    "  * [Concurrent Algorithms](https://en.wikipedia.org/wiki/Category:Concurrent_algorithms)\n",
    "  * [Distributed Algorithm](https://en.wikipedia.org/wiki/Distributed_algorithm)\n",
    "  * [Distributed Algorithms](https://en.wikipedia.org/wiki/Category:Distributed_algorithms)\n",
    "  * [Dynamic Programming](https://en.wikipedia.org/wiki/Dynamic_programming#Sequence_alignment)\n",
    "  * [Gradient Descent](https://en.wikipedia.org/wiki/Gradient_descent?ref=johnwittenauer.net)\n",
    "  * [List of Algorithms](https://en.wikipedia.org/wiki/List_of_algorithms)\n",
    "  * [Parallel Algorithm](https://en.wikipedia.org/wiki/Parallel_algorithm)\n",
    "  * [Parallel Breadth-First Search](https://en.wikipedia.org/wiki/Parallel_breadth-first_search)"
   ]
  },
  {
   "cell_type": "markdown",
   "id": "de6beff8",
   "metadata": {},
   "source": [
    "## Programming Practice Sites\n",
    "\n",
    "* [Advent of Code](https://adventofcode.com/)\n",
    "* [Code Chef](https://www.codechef.com/learn)\n",
    "* [Code Forces](https://codeforces.com/)\n",
    "* [Code Kata](http://codekata.com/)\n",
    "* [Code Signal](https://app.codesignal.com/)\n",
    "* [Code Wars](https://www.codewars.com/dashboard)\n",
    "* [Coder Byte](https://coderbyte.com/challenges/)\n",
    "* [CodinGame](https://www.codingame.com/training)\n",
    "* [Exercism](https://exercism.org/)\n",
    "* [H-99: Ninety-Nine Haskell Problems](https://wiki.haskell.org/H-99:_Ninety-Nine_Haskell_Problems)\n",
    "* [HackerEarth](https://www.hackerearth.com/practice/)\n",
    "* [HackerRank](https://www.hackerrank.com/)\n",
    "* [Karan Projects](https://github.com/karan/Projects)\n",
    "* [LeetCode](https://leetcode.com/)\n",
    "* [Programmr](https://www.programmr.com/exercises)\n",
    "* [Project Euler](https://projecteuler.net/archives)\n",
    "* [/r/dailyprogrammer](https://www.reddit.com/r/dailyprogrammer/)\n",
    "* [StrataScatch](https://platform.stratascratch.com/)\n",
    "* [Timus](https://acm.timus.ru/problemset.aspx)\n",
    "* [Top Coder](https://www.topcoder.com/challenges)"
   ]
  }
 ],
 "metadata": {
  "kernelspec": {
   "display_name": "Python 3 (ipykernel)",
   "language": "python",
   "name": "python3"
  },
  "language_info": {
   "codemirror_mode": {
    "name": "ipython",
    "version": 3
   },
   "file_extension": ".py",
   "mimetype": "text/x-python",
   "name": "python",
   "nbconvert_exporter": "python",
   "pygments_lexer": "ipython3",
   "version": "3.11.2"
  }
 },
 "nbformat": 4,
 "nbformat_minor": 5
}
