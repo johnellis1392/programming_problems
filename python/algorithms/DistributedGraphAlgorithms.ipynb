{
 "cells": [
  {
   "cell_type": "markdown",
   "id": "d8c6f786",
   "metadata": {},
   "source": [
    "# Distributed Graph Algorithms"
   ]
  },
  {
   "cell_type": "markdown",
   "id": "78148ab8",
   "metadata": {},
   "source": [
    "## Parallel Breadth-First Search"
   ]
  },
  {
   "cell_type": "markdown",
   "id": "bef017ea",
   "metadata": {},
   "source": [
    "Taken from here: https://en.wikipedia.org/wiki/Parallel_breadth-first_search\n",
    "\n",
    "Parallel breadth-first search is a breadth-first search over distributed or parallel processes. They can either use shared memory, such as in a multi-process algorithm with semaphore-mediated memory, or use no shared memory such as in a distributed system."
   ]
  },
  {
   "cell_type": "markdown",
   "id": "fb56a68a",
   "metadata": {},
   "source": [
    "Pseuocode for parallel BFS:\n",
    "```python\n",
    "def bfs_sequential(graph(V, E), source s):\n",
    "  d = {}\n",
    "  for v in V:\n",
    "    d[s] = 0, level = 1, FS = {}, NS = {}\n",
    "    FS.push(s)\n",
    "    while FS is not empty:\n",
    "      for u in FS:\n",
    "        for w in neighbors(u):\n",
    "          if d[w] == -1:\n",
    "            NS.push(w)\n",
    "            d[w] = level\n",
    "      FS = NS, NS = {}, level = level+1\n",
    "```"
   ]
  },
  {
   "cell_type": "markdown",
   "id": "8a03e8aa",
   "metadata": {},
   "source": [
    "## Distributed Breadth-First Search"
   ]
  },
  {
   "cell_type": "markdown",
   "id": "e5e99695",
   "metadata": {},
   "source": [
    "Pseudocode for distrubted BFS:\n",
    "```python\n",
    "def bfs_1D_distributed_memory(graph(V, E), source s):\n",
    "    d = {}\n",
    "    for v in V:\n",
    "        d[v] = -1\n",
    "    while True:\n",
    "        FS = {} # Set of local vertices with level\n",
    "        if FS is empty for all processors:\n",
    "            break\n",
    "        NS = {} # Neighbors of vertices in FS, local and non-local\n",
    "        for j in range(p):\n",
    "            n_j = {} # vertices in NS owned by processor j\n",
    "            send n_j to processor j\n",
    "            receive n_j_rcv from processor j\n",
    "        NS_rcv = union(N_j_rcv)\n",
    "        for v in NS_rcv:\n",
    "            if d[v] == -1:\n",
    "                d[v] = level+1\n",
    "```"
   ]
  },
  {
   "cell_type": "markdown",
   "id": "7db6b81d",
   "metadata": {},
   "source": [
    "## BFS Path Counting for Unweighted Graphs\n",
    "\n",
    "Taken from here: https://www.baeldung.com/cs/graph-number-of-shortest-paths"
   ]
  },
  {
   "cell_type": "markdown",
   "id": "ae058697",
   "metadata": {},
   "source": [
    "```python\n",
    "def bfs(V: int, G: Graph, S: int, D: int):\n",
    "    '''\n",
    "    - V: Number of nodes in graph\n",
    "    - G: Adjacency list representing graph\n",
    "    - S: Index of starting point\n",
    "    - D: Index of destination\n",
    "    '''\n",
    "    distance = defaultdict(int)\n",
    "    paths = defaultdict(int)\n",
    "    queue = deque()\n",
    "    queue.append(S)\n",
    "    distance[S] = 0\n",
    "    paths[S] = 1\n",
    "    visited = set()\n",
    "    while not queue.isempty():\n",
    "        current = queue.popleft()\n",
    "        for child in G[current]:\n",
    "            if child not in visited:\n",
    "                queue.append(child)\n",
    "                visited.add(child)\n",
    "            if distance[child] > distance[current]+1:\n",
    "                distance[child] = distance[current]+1\n",
    "                paths[child] = paths[current]\n",
    "            elif distance[child] == distance[current]+1:\n",
    "                paths[child] = paths[child] + paths[current]\n",
    "    return paths[D]\n",
    "```"
   ]
  }
 ],
 "metadata": {
  "kernelspec": {
   "display_name": "Python 3 (ipykernel)",
   "language": "python",
   "name": "python3"
  },
  "language_info": {
   "codemirror_mode": {
    "name": "ipython",
    "version": 3
   },
   "file_extension": ".py",
   "mimetype": "text/x-python",
   "name": "python",
   "nbconvert_exporter": "python",
   "pygments_lexer": "ipython3",
   "version": "3.11.2"
  }
 },
 "nbformat": 4,
 "nbformat_minor": 5
}
