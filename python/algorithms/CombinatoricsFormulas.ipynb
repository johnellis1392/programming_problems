{
 "cells": [
  {
   "cell_type": "markdown",
   "id": "7482266a",
   "metadata": {},
   "source": [
    "# Combinatorics Formulas"
   ]
  },
  {
   "cell_type": "markdown",
   "id": "4a83c251",
   "metadata": {},
   "source": [
    "## Permutations\n",
    "\n",
    "$$\n",
    "P(n, k) = \\frac{n!}{(n - k)!}\n",
    "$$"
   ]
  },
  {
   "cell_type": "markdown",
   "id": "2424d0c8",
   "metadata": {},
   "source": [
    "## Combinations\n",
    "\n",
    "$$\n",
    "{n \\choose k} = \\frac{n!}{k!(n - k)!}\n",
    "$$"
   ]
  }
 ],
 "metadata": {
  "kernelspec": {
   "display_name": "Python 3 (ipykernel)",
   "language": "python",
   "name": "python3"
  },
  "language_info": {
   "codemirror_mode": {
    "name": "ipython",
    "version": 3
   },
   "file_extension": ".py",
   "mimetype": "text/x-python",
   "name": "python",
   "nbconvert_exporter": "python",
   "pygments_lexer": "ipython3",
   "version": "3.11.2"
  }
 },
 "nbformat": 4,
 "nbformat_minor": 5
}
