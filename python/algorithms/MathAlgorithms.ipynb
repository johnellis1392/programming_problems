{
 "cells": [
  {
   "cell_type": "markdown",
   "id": "5e7fa5c2",
   "metadata": {},
   "source": [
    "# Math Algorithms"
   ]
  },
  {
   "cell_type": "markdown",
   "id": "1ac0efac",
   "metadata": {},
   "source": [
    "## Table of Contents <a name=\"table-of-contents\"/>\n",
    "\n",
    "1. [Euclid's Algorithm](#euclids-algorithm)\n",
    "2. [Generate Combinations](#generate-combinations)\n",
    "3. [Generate Permutations](#generate-permutations)"
   ]
  },
  {
   "cell_type": "markdown",
   "id": "0c88850e",
   "metadata": {},
   "source": [
    "## Euclid's Algorithm <a name=\"euclids-algorithm\"/>\n",
    "[back to top](#table-of-contents)\n",
    "\n",
    "[Wikipedia](https://en.wikipedia.org/wiki/Euclidean_algorithm)\n",
    "\n",
    "Euclid's Algorithm is an algorithm for calculating a greatest-common-divisor from two numbers. It can be done in one of two ways: either by successively subtracting the smaller number from the larger number; or by taking the modulus between the two numbers until the two numbers are equivalent."
   ]
  },
  {
   "cell_type": "markdown",
   "id": "51b7b649",
   "metadata": {},
   "source": [
    "### Pseudocode\n",
    "\n",
    "#### Division Method\n",
    "\n",
    "**function** gcd(a, b)<br/>\n",
    "&emsp;**while** b != 0<br/>\n",
    "&emsp;&emsp;t := b<br/>\n",
    "&emsp;&emsp;b := a **mod** b<br/>\n",
    "&emsp;&emsp;a := t<br/>\n",
    "&emsp;**return** a<br/>\n",
    "\n",
    "#### Subtraction Method\n",
    "\n",
    "**function** gcd(a, b)<br/>\n",
    "&emsp;**while** a != b<br/>\n",
    "&emsp;&emsp;**if** a > b<br/>\n",
    "&emsp;&emsp;&emsp;a := a - b<br/>\n",
    "&emsp;&emsp;**else**<br/>\n",
    "&emsp;&emsp;&emsp;b := b - a<br/>\n",
    "&emsp;**return** a<br/>"
   ]
  },
  {
   "cell_type": "code",
   "execution_count": 1,
   "id": "d0511b4c",
   "metadata": {},
   "outputs": [],
   "source": [
    "def gcd(a, b):\n",
    "    while b != 0:\n",
    "        t = b\n",
    "        b = a % b\n",
    "        a = t\n",
    "    return a"
   ]
  },
  {
   "cell_type": "code",
   "execution_count": 2,
   "id": "a2321318",
   "metadata": {},
   "outputs": [
    {
     "data": {
      "text/plain": [
       "21"
      ]
     },
     "execution_count": 2,
     "metadata": {},
     "output_type": "execute_result"
    }
   ],
   "source": [
    "gcd(252, 105)"
   ]
  },
  {
   "cell_type": "markdown",
   "id": "3ba9814d",
   "metadata": {},
   "source": [
    "## Generate Combinations <a name=\"generate-combinations\"/>\n",
    "[back to top](#table-of-contents)\n",
    "\n",
    "This is a useful algorithm for generating combinations of a sequence. I don't know if it has a name, and searching Wikipedia for algorithms for combinations isn't very easy. This is an algorithm taken from a StackOverflow answer somewhere."
   ]
  },
  {
   "cell_type": "code",
   "execution_count": 10,
   "id": "f4ccf2b5",
   "metadata": {},
   "outputs": [],
   "source": [
    "def combinations(n, k, f):\n",
    "    c = list(range(k))\n",
    "    while c[k-1] < n:\n",
    "        f(c) # Visit Combination\n",
    "        t = k-1\n",
    "        while t != 0 and c[t] == n-k+t:\n",
    "            t -= 1\n",
    "        c[t] += 1\n",
    "        for i in range(t+1, k):\n",
    "            c[i] = c[i-1]+1"
   ]
  },
  {
   "cell_type": "code",
   "execution_count": null,
   "id": "440d9f8d",
   "metadata": {},
   "outputs": [],
   "source": [
    "combinations(5, 3, lambda x: print(x))"
   ]
  },
  {
   "cell_type": "markdown",
   "id": "a2dec74e",
   "metadata": {},
   "source": [
    "The following are Java algorithms taken from [this Baeldung page](https://www.baeldung.com/java-combinations-algorithm): "
   ]
  },
  {
   "cell_type": "markdown",
   "id": "cd8e5ec4",
   "metadata": {},
   "source": [
    "```java\n",
    "// Recursive Definition\n",
    "private void helper(\n",
    "  List<int[]> combinations,\n",
    "  int data[],\n",
    "  int start,\n",
    "  int end,\n",
    "  int index\n",
    ") {\n",
    "  if (index == data.length) {\n",
    "    int[] combination = data.clone();\n",
    "    combinations.add(combination);\n",
    "  } else if (start <= end) {\n",
    "    data[index] = start;\n",
    "    helper(combinations, data, start+1, end, index+1);\n",
    "    helper(combinations, data, start+1, end, index);\n",
    "  }\n",
    "}\n",
    "\n",
    "public List<int[]> generate(int n, int r) {\n",
    "  List<int[]> combinations = new ArrayList<>();\n",
    "  helper(combinations, new int[r], 0, n-1, 0);\n",
    "  return combinations;\n",
    "}\n",
    "```"
   ]
  },
  {
   "cell_type": "markdown",
   "id": "1cee7e80",
   "metadata": {},
   "source": [
    "```java\n",
    "// Alterative Approach\n",
    "private void helper(\n",
    "  List<int[]> combinations,\n",
    "  int data[],\n",
    "  int start,\n",
    "  int end,\n",
    "  int index\n",
    ") {\n",
    "  if (index == data.length) {\n",
    "    int[] combination = data.clone();\n",
    "    combinations.add(combination);\n",
    "  } else {\n",
    "    int max = Math.min(end, end+1-data.length+index);\n",
    "    for (int i = start; i <= max; i++) {\n",
    "      data[index] = i;\n",
    "      helper(combinations, data, i+1, end, index+1);\n",
    "    }\n",
    "  }\n",
    "}\n",
    "\n",
    "public List<int[]> generate(int n, int r) {\n",
    "  List<int[]> combinations = new ArrayList<>();\n",
    "  helper(combinations, new int[r], 0, n-1, 0);\n",
    "  return combinations;\n",
    "}\n",
    "```"
   ]
  },
  {
   "cell_type": "markdown",
   "id": "d94fe254",
   "metadata": {},
   "source": [
    "```java\n",
    "// Iterative Approach\n",
    "public List<int[]> generate(int n, int r) {\n",
    "  List<int[]> combinations = new ArrayList<>();\n",
    "  int[] combination = new int[r];\n",
    "  for (int i = 0; i < r; i++)\n",
    "    combination[i] = i;\n",
    "  while (combination[r-1] < n) {\n",
    "    combinations.add(combination.clone());\n",
    "    int t = r - 1;\n",
    "    while (t != 0 && combination[t] == n-r+t)\n",
    "      t--;\n",
    "    combination[t]++;\n",
    "    for (int i = t+1; i < r; i++)\n",
    "      combination[i] = combination[i-1] + 1;\n",
    "  }\n",
    "  return combinations;\n",
    "}\n",
    "```"
   ]
  },
  {
   "cell_type": "markdown",
   "id": "0f970d0f",
   "metadata": {},
   "source": [
    "## Generate Permutations <a name=\"generate-permutations\"/>\n",
    "[back to top](#table-of-contents)"
   ]
  },
  {
   "cell_type": "markdown",
   "id": "f5ed5adf",
   "metadata": {},
   "source": [
    "### Heap's Algorithm\n",
    "[Wikipedia](https://en.wikipedia.org/wiki/Heap%27s_algorithm)\n",
    "\n",
    "#### Recursive Approach\n",
    "\n",
    "**procedure** generate(k: int, A: [any]):<br/>\n",
    "&emsp;**if** k = 1 **then** <br/>\n",
    "&emsp;&emsp;output(A)<br/>\n",
    "&emsp;**else**<br/>\n",
    "&emsp;&emsp;generate(k - 1, A)<br/>\n",
    "&emsp;&emsp;**for** i := 0; i < k-1; i++ **do** <br/>\n",
    "&emsp;&emsp;&emsp;**if** k is even **then** <br/>\n",
    "&emsp;&emsp;&emsp;&emsp;swap(A[i], A[k-1])<br/>\n",
    "&emsp;&emsp;&emsp;**else**<br/>\n",
    "&emsp;&emsp;&emsp;&emsp;swap(A[0], A[k-1])<br/>\n",
    "&emsp;&emsp;&emsp;**end if**<br/>\n",
    "&emsp;&emsp;&emsp;generate(k - 1, A)<br/>\n",
    "&emsp;&emsp;**end for**<br/>\n",
    "&emsp;**end if**<br/>\n",
    "\n",
    "#### Iterative Approach\n",
    "\n",
    "**procedure** generate(n: int, A: [any]):<br/>\n",
    "&emsp;c: [int]<br/>\n",
    "&emsp;**for** i := 0; i < n; i++ **do**<br/>\n",
    "&emsp;&emsp;c[i] := 0<br/>\n",
    "&emsp;**end for**<br/>\n",
    "&emsp;output(A)<br/>\n",
    "&emsp;i := 1<br/>\n",
    "&emsp;**while** i < n **do**<br/>\n",
    "&emsp;&emsp;**if** c[i] < i **then**<br/>\n",
    "&emsp;&emsp;&emsp;**if** i is even **then**<br/>\n",
    "&emsp;&emsp;&emsp;&emsp;swap(A[0], A[i])<br/>\n",
    "&emsp;&emsp;&emsp;**else**<br/>\n",
    "&emsp;&emsp;&emsp;&emsp;swap(A[c[i]], A[i])<br/>\n",
    "&emsp;&emsp;&emsp;**end if**<br/>\n",
    "&emsp;&emsp;&emsp;output(A)<br/>\n",
    "&emsp;&emsp;&emsp;c[i] += 1<br/>\n",
    "&emsp;&emsp;&emsp;i := 1<br/>\n",
    "&emsp;&emsp;**else**<br/>\n",
    "&emsp;&emsp;&emsp;c[i] := 0<br/>\n",
    "&emsp;&emsp;&emsp;i += 1<br/>\n",
    "&emsp;&emsp;**end if**<br/>\n",
    "&emsp;**end while**<br/>"
   ]
  }
 ],
 "metadata": {
  "kernelspec": {
   "display_name": "Python 3 (ipykernel)",
   "language": "python",
   "name": "python3"
  },
  "language_info": {
   "codemirror_mode": {
    "name": "ipython",
    "version": 3
   },
   "file_extension": ".py",
   "mimetype": "text/x-python",
   "name": "python",
   "nbconvert_exporter": "python",
   "pygments_lexer": "ipython3",
   "version": "3.11.2"
  }
 },
 "nbformat": 4,
 "nbformat_minor": 5
}
