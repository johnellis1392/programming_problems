{
 "cells": [
  {
   "cell_type": "markdown",
   "id": "34f468a4",
   "metadata": {},
   "source": [
    "# Algorithms to Know\n",
    "\n",
    "This is a basic list of important algorithms, taken from [this medium article](https://medium.com/techie-delight/top-25-algorithms-every-programmer-should-know-373246b4881b). This is a living document, and I'll add to it as I discover other important algorithms."
   ]
  },
  {
   "cell_type": "markdown",
   "id": "4c6246da",
   "metadata": {},
   "source": [
    "## Table of Contents <a name=\"table-of-contents\"/>\n",
    "\n",
    "1. [Binary Search](#binary-search)\n",
    "2. [Breadth First Search](#breadth-first-search)\n",
    "3. [Depth First Search](#depth-first-search)\n",
    "4. [Merge Sort](#merge-sort)\n",
    "5. [Quicksort](#quicksort)\n",
    "6. [Kurskal's Algorithm](#kruskals-algorithm)\n",
    "7. [Floyd Warshall Algorithm](#floyd-warshall-algorithm)\n",
    "8. [Dijkstra's Algorithm](#dijkstras-algorithm)\n",
    "9. [Bellman Ford Algorithm](#bellman-ford-algorithm)\n",
    "10. [Kadane's Algorithm](#kadanes-algorithm)\n",
    "11. [Lee Algorithm](#lee-algorithm)\n",
    "12. [Flood Fill Algorithm](#flood-fill-algorithm)\n",
    "13. [Floyd's Cycle Detection Algorithm](#floyds-cycle-detection-algorithm)\n",
    "14. [Union Find Algorithm](#union-find-algorithm)\n",
    "15. [Topological Sort](#topological-sort)\n",
    "16. [KMP Algorithm](#kmp-algorithm)\n",
    "17. [Insertion Sort](#insertion-sort)\n",
    "18. [Selection Sort](#selection-sort)\n",
    "19. [Counting Sort](#counting-sort)\n",
    "20. [Heap Sort](#heap-sort)\n",
    "21. [Kahn's Topological Sort](#kahns-topological-sort)\n",
    "22. [Huffman Coding Compression Algorithm](#huffman-coding-compression-algorithm)\n",
    "23. [Quickselect Algorithm](#quickselect-algorithm)\n",
    "24. [Boyer-Moore Majority Vote Algorithm](#boyer-moore-majority-vote-algorithm)\n",
    "25. [Euclid's Algorithm](#euclids-algorithm)"
   ]
  },
  {
   "cell_type": "markdown",
   "id": "63ec2b0b",
   "metadata": {},
   "source": [
    "## Binary Search <a name=\"binary-search\"/>\n",
    "[back to top](#table-of-contents)\n",
    "\n",
    "[techiedelight](https://www.techiedelight.com/binary-search/)\n",
    "[wikipedia](https://en.wikipedia.org/wiki/Binary_search_algorithm)\n",
    "\n",
    "**Time Complexity**: $O(log{n})$\n",
    "\n",
    "**Description**: Binary Search is a search algorithm over a sorted list. The basic idea is the start with two indices $l$ and $r$, representing a left-bound and a right-bound for searching, which are initially set to $0$ and $n-1$, and choose an index $m$ between the two elements. If the element you're looking for is less than the element at $m$, set $r$ to $m-1$; if the element is greater than the element at $m$, set $l$ to $m+1$; if the element at $m$ is what you're looking for, then return the index; and if ever $l$ is greater than $r$, you've searched through the full sorted list and didn't dinf the element, so return nothing."
   ]
  },
  {
   "cell_type": "markdown",
   "id": "992efbf7",
   "metadata": {},
   "source": [
    "### Pseudocode\n",
    "\n",
    "**function** binary_search(A, n, T) **is** <br>\n",
    "&emsp;L := 0<br>\n",
    "&emsp;R := n - 1<br>\n",
    "&emsp;**while** L <= R **do**<br>\n",
    "&emsp;&emsp;m := floor((L + R) / 2)<br>\n",
    "&emsp;&emsp;**if** A[m] < T **then**<br>\n",
    "&emsp;&emsp;&emsp;L := m + 1<br>\n",
    "&emsp;&emsp;**else if** A[m] > T **then**<br>\n",
    "&emsp;&emsp;&emsp;R := m - 1<br>\n",
    "&emsp;&emsp;**else**:<br>\n",
    "&emsp;&emsp;&emsp;**return** m<br>\n",
    "&emsp;&emsp;**return** unsuccessful"
   ]
  },
  {
   "cell_type": "code",
   "execution_count": 4,
   "id": "14e83afd",
   "metadata": {},
   "outputs": [],
   "source": [
    "def binary_search(a, target):\n",
    "    l, r = 0, len(a)-1\n",
    "    while l <= r:\n",
    "        m = (l + r) // 2\n",
    "        if a[m] < target:\n",
    "            l = m + 1\n",
    "        elif a[m] > target:\n",
    "            r = m - 1\n",
    "        else:\n",
    "            return m\n",
    "    return None"
   ]
  },
  {
   "cell_type": "code",
   "execution_count": 7,
   "id": "024c024c",
   "metadata": {},
   "outputs": [
    {
     "name": "stdout",
     "output_type": "stream",
     "text": [
      "2\n"
     ]
    }
   ],
   "source": [
    "a = list(range(5, 11))\n",
    "print(binary_search(a, 7))"
   ]
  },
  {
   "cell_type": "markdown",
   "id": "b3c4c616",
   "metadata": {},
   "source": [
    "## Breadth First Search <a name=\"breadth-first-search\"/>\n",
    "[back to top](#table-of-contents)\n",
    "\n",
    "[Wikipedia](https://en.wikipedia.org/wiki/Breadth-first_search)"
   ]
  },
  {
   "cell_type": "markdown",
   "id": "d4efa9a9",
   "metadata": {},
   "source": [
    "### Pseudocode\n",
    "\n",
    "**procedure** BFS(G, root) **is**<br/>\n",
    "&emsp;let Q be a queue<br/>\n",
    "&emsp;label root as explored<br/>\n",
    "&emsp;Q.enqueue(root)<br/>\n",
    "&emsp;**while** Q is not empty **do**<br/>\n",
    "&emsp;&emsp;v := Q.dequeue()<br/>\n",
    "&emsp;&emsp;**if** v = goal **then**<br/>\n",
    "&emsp;&emsp;&emsp;**return** V<br/>\n",
    "&emsp;&emsp;**for all** edges from *v* to *w* **in** G.adjacentEdges(v) **do**<br/>\n",
    "&emsp;&emsp;&emsp;**if** w is not labeled as explored **then**<br/>\n",
    "&emsp;&emsp;&emsp;&emsp;label w as explored<br/>\n",
    "&emsp;&emsp;&emsp;&emsp;w.parent := v<br/>\n",
    "&emsp;&emsp;&emsp;&emsp;Q.enqueue(w)"
   ]
  },
  {
   "cell_type": "code",
   "execution_count": 9,
   "id": "0465b603",
   "metadata": {},
   "outputs": [],
   "source": [
    "def bfs(G, root, goal):\n",
    "    from collections import deque\n",
    "    q = deque()\n",
    "    explored = set()\n",
    "    q.append(root)\n",
    "    while q:\n",
    "        v = q.popleft()\n",
    "        if v == goal:\n",
    "            return v\n",
    "        for w in G[v]:\n",
    "            if w not in explored:\n",
    "                explored.add(w)\n",
    "                # w.parent = v # Not necessary given this data structure\n",
    "                q.append(w)"
   ]
  },
  {
   "cell_type": "code",
   "execution_count": 10,
   "id": "a67147ac",
   "metadata": {},
   "outputs": [
    {
     "data": {
      "text/plain": [
       "'G'"
      ]
     },
     "execution_count": 10,
     "metadata": {},
     "output_type": "execute_result"
    }
   ],
   "source": [
    "G = {\n",
    "    'A': ['B', 'C'],\n",
    "    'B': ['C', 'D'],\n",
    "    'C': ['D', 'E', 'F'],\n",
    "    'D': ['B', 'E'],\n",
    "    'E': ['E', 'G'],\n",
    "    'F': ['E'],\n",
    "    'G': ['E', 'F'],\n",
    "}\n",
    "root, goal = 'A', 'G'\n",
    "bfs(G, root, goal)"
   ]
  },
  {
   "cell_type": "markdown",
   "id": "83c78413",
   "metadata": {},
   "source": [
    "## Depth First Search <a name=\"depth-first-search\"/>\n",
    "[back to top](#table-of-contents)\n",
    "\n",
    "[Wikipedia](https://en.wikipedia.org/wiki/Depth-first_search)\n",
    "\n",
    "Much like Breadth-First Search except instead of using a queue to iterate through frontiers of nodes, you use a stack for iteration."
   ]
  },
  {
   "cell_type": "markdown",
   "id": "76dddbcc",
   "metadata": {},
   "source": [
    "### Pseudocode\n",
    "\n",
    "**procedure** DFS(G, root) **is**<br/>\n",
    "&emsp;let S be a stack<br/>\n",
    "&emsp;S.push(root)<br/>\n",
    "&emsp;**while** S is not empty **do**<br/>\n",
    "&emsp;&emsp;v = S.pop()<br/>\n",
    "&emsp;&emsp;**if** v is not labeled as discovered **then**<br/>\n",
    "&emsp;&emsp;&emsp;label v as discovered<br/>\n",
    "&emsp;&emsp;&emsp;**for all** edges from v to w **in** G.adjacentEdges(v) **do**<br/>\n",
    "&emsp;&emsp;&emsp;&emsp;S.push(w)<br/>"
   ]
  },
  {
   "cell_type": "code",
   "execution_count": 11,
   "id": "9e82d714",
   "metadata": {},
   "outputs": [],
   "source": [
    "def dfs(G, root, target):\n",
    "    S = []\n",
    "    S.append(root)\n",
    "    seen = set()\n",
    "    while S:\n",
    "        v = S.pop()\n",
    "        if v == target:\n",
    "            return v\n",
    "        if v not in seen:\n",
    "            seen.add(v)\n",
    "            for w in G[v]:\n",
    "                S.append(w)"
   ]
  },
  {
   "cell_type": "code",
   "execution_count": 12,
   "id": "763605b1",
   "metadata": {},
   "outputs": [
    {
     "data": {
      "text/plain": [
       "'G'"
      ]
     },
     "execution_count": 12,
     "metadata": {},
     "output_type": "execute_result"
    }
   ],
   "source": [
    "G = {\n",
    "    'A': ['B', 'C'],\n",
    "    'B': ['C', 'D'],\n",
    "    'C': ['D', 'E', 'F'],\n",
    "    'D': ['B', 'E'],\n",
    "    'E': ['E', 'G'],\n",
    "    'F': ['E'],\n",
    "    'G': ['E', 'F'],\n",
    "}\n",
    "root, goal = 'A', 'G'\n",
    "dfs(G, root, goal)"
   ]
  },
  {
   "cell_type": "markdown",
   "id": "74da71d6",
   "metadata": {},
   "source": [
    "## Merge Sort <a name=\"merge-sort\"/>\n",
    "[back to top](#table-of-contents)\n",
    "\n",
    "[Wikipedia](https://en.wikipedia.org/wiki/Merge_sort)\n",
    "\n",
    "**Time Complexity**: $O(n log{n})$"
   ]
  },
  {
   "cell_type": "markdown",
   "id": "00dd2c73",
   "metadata": {},
   "source": [
    "### Pseudocode\n",
    "\n",
    "### Top-Down Approach\n",
    "\n",
    "**function** merge_sort(list m) **is**<br/>\n",
    "&emsp;**if** length of m <= 1 **then**<br/>\n",
    "&emsp;&emsp;**return** m<br/>\n",
    "&emsp;**var** left := empty list<br/>\n",
    "&emsp;**var** right := empth list<br/>\n",
    "&emsp;**for each** x **with index** i **in** m **do**<br/>\n",
    "&emsp;&emsp;**if** i < (length of m)/2 **then**<br/>\n",
    "&emsp;&emsp;&emsp;add x to left<br/>\n",
    "&emsp;&emsp;**else**<br/>\n",
    "&emsp;&emsp;&emsp;add x to right<br/>\n",
    "&emsp;left := merge_sort(left)<br/>\n",
    "&emsp;right := merge_sort(right)<br/>\n",
    "&emsp;**return** merge(left, right)<br/>\n",
    "\n",
    "**function** merge(left, right) **is**<br/>\n",
    "&emsp;**var** result := empty list<br/>\n",
    "&emsp;**while** left is not empty **and** right is not empty **do**<br/>\n",
    "&emsp;&emsp;**if** first(left) <= first(right) **then**<br/>\n",
    "&emsp;&emsp;&emsp;append first(left) to result<br/>\n",
    "&emsp;&emsp;&emsp;left := rest(left)<br/>\n",
    "&emsp;&emsp;**else**<br/>\n",
    "&emsp;&emsp;&emsp;append first(right) to result<br/>\n",
    "&emsp;&emsp;&emsp;right := rest(right)<br/>\n",
    "&emsp;**while** left is not empty **do**<br/>\n",
    "&emsp;&emsp;append first(left) to result<br/>\n",
    "&emsp;&emsp;left := rest(left)<br/>\n",
    "&emsp;**while** right is not empty **do**<br/>\n",
    "&emsp;&emsp;append first(right) to result<br/>\n",
    "&emsp;&emsp;right := rest(right)<br/>\n",
    "&emsp;**return** result<br/>\n",
    "\n",
    "### Bottom-Up Approach\n",
    "\n",
    "**function** merge_sort(node head) **is**<br/>\n",
    "&emsp;**if** head = nil **then**<br/>\n",
    "&emsp;&emsp;**return** nil<br/>\n",
    "&emsp;**var** node array[32]; initially all nil<br/>\n",
    "&emsp;**var** node result, next<br/>\n",
    "&emsp;**var** int i<br/>\n",
    "&emsp;result := head<br/>\n",
    "&emsp;**while** result != nil **do**<br/>\n",
    "&emsp;&emsp;next := result.next<br/>\n",
    "&emsp;&emsp;result.next = nil<br/>\n",
    "&emsp;&emsp;**for** (i:=0; (i<32) && (array[i]!=nil); i++) **do**<br/>\n",
    "&emsp;&emsp;&emsp;result := merge(array[i], result)<br/>\n",
    "&emsp;&emsp;&emsp;array[i] := nil<br/>\n",
    "&emsp;&emsp;**if** i = 32 **then**<br/>\n",
    "&emsp;&emsp;&emsp;i--<br/>\n",
    "&emsp;&emsp;array[i] := result<br/>\n",
    "&emsp;&emsp;result := next<br/>\n",
    "&emsp;result := nil<br/>\n",
    "&emsp;**for** (i:=0; i<32; i++) **do**<br/>\n",
    "&emsp;&emsp;result := merge(array[i], result)<br/>\n",
    "&emsp;**return** result<br/>"
   ]
  },
  {
   "cell_type": "code",
   "execution_count": 14,
   "id": "823c8ed0",
   "metadata": {},
   "outputs": [],
   "source": [
    "def merge(left, right):\n",
    "    result = []\n",
    "    while left and right:\n",
    "        if left[0] <= right[0]:\n",
    "            result.append(left[0])\n",
    "            left = left[1:]\n",
    "        else:\n",
    "            result.append(right[0])\n",
    "            right = right[1:]\n",
    "    while left:\n",
    "        result.append(left[0])\n",
    "        left = left[1:]\n",
    "    while right:\n",
    "        result.append(right[0])\n",
    "        right = right[1:]\n",
    "    return result\n",
    "\n",
    "def merge_sort(m):\n",
    "    if len(m) <= 1:\n",
    "        return m\n",
    "    left, right = [], []\n",
    "    for i, x in enumerate(m):\n",
    "        if i < len(m)//2:\n",
    "            left.append(x)\n",
    "        else:\n",
    "            right.append(x)\n",
    "    left = merge_sort(left)\n",
    "    right = merge_sort(right)\n",
    "    return merge(left, right)"
   ]
  },
  {
   "cell_type": "code",
   "execution_count": 15,
   "id": "c947298b",
   "metadata": {},
   "outputs": [
    {
     "data": {
      "text/plain": [
       "[1, 2, 3, 4, 5, 6, 7, 8, 9, 10]"
      ]
     },
     "execution_count": 15,
     "metadata": {},
     "output_type": "execute_result"
    }
   ],
   "source": [
    "a = [10,9,8,7,6,5,4,3,2,1]\n",
    "merge_sort(a)"
   ]
  },
  {
   "cell_type": "markdown",
   "id": "6097416a",
   "metadata": {},
   "source": [
    "## Quicksort <a name=\"quicksort\"/>\n",
    "[back to top](#table-of-contents)"
   ]
  },
  {
   "cell_type": "markdown",
   "id": "92e1ae56",
   "metadata": {},
   "source": [
    "## Kruskal's Algorithm <a name=\"kruskals-algorithm\"/>\n",
    "[back to top](#table-of-contents)"
   ]
  },
  {
   "cell_type": "markdown",
   "id": "6671a985",
   "metadata": {},
   "source": [
    "## Floyd Warshall Algorithm <a name=\"floyd-warshall-algorithm\"/>\n",
    "[back to top](#table-of-contents)"
   ]
  },
  {
   "cell_type": "markdown",
   "id": "45be88f8",
   "metadata": {},
   "source": [
    "## Dijkstra's Algorithm <a name=\"dijkstras-algorithm\"/>\n",
    "[back to top](#table-of-contents)"
   ]
  },
  {
   "cell_type": "markdown",
   "id": "5260f0e6",
   "metadata": {},
   "source": [
    "## Bellman Ford Algorithm <a name=\"bellman-ford-algorithm\"/>\n",
    "[back to top](#table-of-contents)"
   ]
  },
  {
   "cell_type": "markdown",
   "id": "30756b74",
   "metadata": {},
   "source": [
    "## Kadane's Algorithm <a name=\"kadanes-algorithm\"/>\n",
    "[back to top](#table-of-contents)"
   ]
  },
  {
   "cell_type": "markdown",
   "id": "d94b2230",
   "metadata": {},
   "source": [
    "## Lee Algorithm <a name=\"lee-algorithm\"/>\n",
    "[back to top](#table-of-contents)"
   ]
  },
  {
   "cell_type": "markdown",
   "id": "8b05203a",
   "metadata": {},
   "source": [
    "## Flood Fill Algorithm <a name=\"flood-fill-algorithm\"/>\n",
    "[back to top](#table-of-contents)"
   ]
  },
  {
   "cell_type": "markdown",
   "id": "3bf9386d",
   "metadata": {},
   "source": [
    "## Floyd's Cycle Detection Algorithm <a name=\"floyds-cycle-detection-algorithm\"/>\n",
    "[back to top](#table-of-contents)"
   ]
  },
  {
   "cell_type": "markdown",
   "id": "ae7fea76",
   "metadata": {},
   "source": [
    "## Union Find Algorithm <a name=\"union-find-algorithm\"/>\n",
    "[back to top](#table-of-contents)"
   ]
  },
  {
   "cell_type": "markdown",
   "id": "9c7c5e4e",
   "metadata": {},
   "source": [
    "## Topological Sort <a name=\"topological-sort\"/>\n",
    "[back to top](#table-of-contents)"
   ]
  },
  {
   "cell_type": "markdown",
   "id": "5650b95f",
   "metadata": {},
   "source": [
    "## KMP Algorithm <a name=\"kmp-algorithm\"/>\n",
    "[back to top](#table-of-contents)"
   ]
  },
  {
   "cell_type": "markdown",
   "id": "4f252275",
   "metadata": {},
   "source": [
    "## Insertion Sort <a name=\"insertion-sort\"/>\n",
    "[back to top](#table-of-contents)"
   ]
  },
  {
   "cell_type": "markdown",
   "id": "13c339b2",
   "metadata": {},
   "source": [
    "## Selection Sort <a name=\"selection-sort\"/>\n",
    "[back to top](#table-of-contents)"
   ]
  },
  {
   "cell_type": "markdown",
   "id": "d5a2436e",
   "metadata": {},
   "source": [
    "## Counting Sort <a name=\"counting-sort\"/>\n",
    "[back to top](#table-of-contents)"
   ]
  },
  {
   "cell_type": "markdown",
   "id": "bf3c1698",
   "metadata": {},
   "source": [
    "## Heap Sort <a name=\"heap-sort\"/>\n",
    "[back to top](#table-of-contents)"
   ]
  },
  {
   "cell_type": "markdown",
   "id": "0af45dba",
   "metadata": {},
   "source": [
    "## Kahn's Topological Sort <a name=\"kahns-topological-sort\"/>\n",
    "[back to top](#table-of-contents)"
   ]
  },
  {
   "cell_type": "markdown",
   "id": "dc7e11f9",
   "metadata": {},
   "source": [
    "## Huffman Coding Compression Algorithm <a name=\"huffman-coding-compression-algorithm\"/>\n",
    "[back to top](#table-of-contents)"
   ]
  },
  {
   "cell_type": "markdown",
   "id": "5d3e35bc",
   "metadata": {},
   "source": [
    "## Quickselect Algorithm <a name=\"quickselect-algorithm\"/>\n",
    "[back to top](#table-of-contents)"
   ]
  },
  {
   "cell_type": "markdown",
   "id": "49770bbb",
   "metadata": {},
   "source": [
    "## Boyer-Moore Majority Vote Algorithm <a name=\"boyer-moore-majority-vote-algorithm\"/>\n",
    "[back to top](#table-of-contents)"
   ]
  },
  {
   "cell_type": "markdown",
   "id": "9da3ab7c",
   "metadata": {},
   "source": [
    "## Euclid's Algorithm <a name=\"euclids-algorithm\"/>\n",
    "[back to top](#table-of-contents)"
   ]
  }
 ],
 "metadata": {
  "kernelspec": {
   "display_name": "Python 3 (ipykernel)",
   "language": "python",
   "name": "python3"
  },
  "language_info": {
   "codemirror_mode": {
    "name": "ipython",
    "version": 3
   },
   "file_extension": ".py",
   "mimetype": "text/x-python",
   "name": "python",
   "nbconvert_exporter": "python",
   "pygments_lexer": "ipython3",
   "version": "3.9.16"
  }
 },
 "nbformat": 4,
 "nbformat_minor": 5
}
